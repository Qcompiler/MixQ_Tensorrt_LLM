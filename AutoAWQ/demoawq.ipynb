{
 "cells": [
  {
   "cell_type": "code",
   "execution_count": 5,
   "id": "16edd360-4958-4e75-8dc4-e164b739240d",
   "metadata": {},
   "outputs": [
    {
     "name": "stderr",
     "output_type": "stream",
     "text": [
      "Replacing layers...: 100%|█████████████████████████████████████████████████████████████████████████| 32/32 [00:03<00:00,  8.72it/s]\n"
     ]
    }
   ],
   "source": [
    "import sys\n",
    "from   awq import AutoAWQForCausalLM\n",
    "import os\n",
    "import sys\n",
    "sys.path.append(\"/home/chenyidong/quant/AutoAWQ\")\n",
    "import awq\n",
    "os.environ[\"WORLD_SIZE\"] = \"1\"\n",
    "import time\n",
    "import torch\n",
    "import argparse\n",
    "import numpy as np\n",
    "import pandas as pd\n",
    "\n",
    "\n",
    "if __name__ == \"__main__\":\n",
    "\n",
    "    \"\"\"\n",
    "    python benchflops.py --model_path /mnt/data/zhongrx/Llama-2-7b-hf --quant_file /mnt/data/zhongrx/Llama-2-7b-hf \n",
    "\n",
    "    \"\"\"\n",
    "    parser = argparse.ArgumentParser()\n",
    "    parser.add_argument(\"--model_path\", type=str, default=\"/mnt/data/zhongrx/Llama-2-7b-hf\", help=\"path to the model\")\n",
    "    parser.add_argument(\"--quant_file\", type=str, default=\"/mnt/data/chenyd/Llama-2-7b-awq\", help=\"weights filename\")\n",
    "    parser.add_argument(\"-f\", type=str)\n",
    "    parser.add_argument(\"--batch_size\", type=int, default=1, help=\"Batch size for cache and generation\")\n",
    "    parser.add_argument(\"--safetensors\", default=False, action=\"store_true\", help=\"Use for enabling safetensors\")\n",
    "    parser.add_argument(\"--seq_length\", default=128, type=int)\n",
    "\n",
    "    args = parser.parse_args()\n",
    "\n",
    "    n_gpus = torch.cuda.device_count()\n",
    "    max_memory = f'{int(torch.cuda.mem_get_info()[0]/1024**3)-2}GB'\n",
    "    max_memory = {i: max_memory for i in range(n_gpus)}\n",
    "\n",
    "\n",
    "    n_generate = args.seq_length\n",
    "    modelawq = AutoAWQForCausalLM.from_quantized(\n",
    "        args.model_path, args.quant_file, fuse_layers=True,\n",
    "        max_new_tokens=n_generate, batch_size=args.batch_size,\n",
    "        safetensors=args.safetensors\n",
    "    )"
   ]
  },
  {
   "cell_type": "code",
   "execution_count": 13,
   "id": "65c1f665-b691-44f2-9a24-e24864c09891",
   "metadata": {},
   "outputs": [
    {
     "data": {
      "text/plain": [
       "LlamaDecoderLayer(\n",
       "  (self_attn): QuantAttentionFused(\n",
       "    (qkv_proj): WQLinear_GEMM(in_features=4096, out_features=12288, bias=False, w_bit=4, group_size=128)\n",
       "    (o_proj): WQLinear_GEMM(in_features=4096, out_features=4096, bias=False, w_bit=4, group_size=128)\n",
       "    (rope): RoPE()\n",
       "  )\n",
       "  (mlp): QuantLlamaMLP(\n",
       "    (down_proj): WQLinear_GEMM(in_features=11008, out_features=4096, bias=False, w_bit=4, group_size=128)\n",
       "  )\n",
       "  (input_layernorm): FasterTransformerRMSNorm()\n",
       "  (post_attention_layernorm): FasterTransformerRMSNorm()\n",
       ")"
      ]
     },
     "execution_count": 13,
     "metadata": {},
     "output_type": "execute_result"
    }
   ],
   "source": [
    "modelawq.model.model.layers[0]"
   ]
  }
 ],
 "metadata": {
  "kernelspec": {
   "display_name": "Python 3 (ipykernel)",
   "language": "python",
   "name": "python3"
  },
  "language_info": {
   "codemirror_mode": {
    "name": "ipython",
    "version": 3
   },
   "file_extension": ".py",
   "mimetype": "text/x-python",
   "name": "python",
   "nbconvert_exporter": "python",
   "pygments_lexer": "ipython3",
   "version": "3.10.13"
  }
 },
 "nbformat": 4,
 "nbformat_minor": 5
}
